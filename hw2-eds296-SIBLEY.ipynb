{
 "cells": [
  {
   "cell_type": "markdown",
   "id": "a68f86ec-5852-43e8-8f07-66444f489444",
   "metadata": {},
   "source": [
    "# Homework 2 - Geospatial Analysis \n",
    "\n",
    "### EDS 296 \n",
    "\n",
    "May 11, 2025 \n",
    "\n",
    "Jordan Sibley "
   ]
  },
  {
   "cell_type": "markdown",
   "id": "43a87616-e0ef-458c-9d7f-972d798d2a8b",
   "metadata": {},
   "source": [
    "## Accessing CMIP6 data \n",
    "\n",
    "1. Using the CMIP6 database hosted on Amazon Web Services, choose any two models you like: use both their historical simulations and future projections from one of the four major SSPs (ssp126, ssp245, ssp370, or ssp585). **Provide a brief description of the models and scenarios you chose to include.**\n",
    "\n",
    "2. Access information from your chosen models and scenario, for any climate variable you like; however, note that three-dimensional data is generally larger and can be slower to load, so I recommend either choosing a two-dimensional data field or reading in only the surface level if you choose 3D information. Some common choices of variables to analyze, and their CMIP names, include:\n",
    "- Surface air temperature (tas)\n",
    "- Precipitation (pr)\n",
    "- Sea surface temperature (tos)"
   ]
  },
  {
   "cell_type": "code",
   "execution_count": null,
   "id": "83d65196-bd4e-4f6f-a8cd-767ab6641e87",
   "metadata": {},
   "outputs": [],
   "source": []
  },
  {
   "cell_type": "markdown",
   "id": "841dc2bf-30dc-4499-9acc-25db841562da",
   "metadata": {},
   "source": [
    "## Choosing a study region "
   ]
  },
  {
   "cell_type": "markdown",
   "id": "52e6fd45-c9e7-4b7d-9d19-386aed98be6d",
   "metadata": {},
   "source": [
    "3. Choose a region that you’re interested in to analyze, anywhere in the world. This should be a region that’s fairly large - think, the size of a large country or a sizable fraction of a continent. As you did for HW1, describe in markdown text some aspects of the climate of your region: **what are the interesting features there, and how might you expect that climate change would impact the area?**"
   ]
  },
  {
   "cell_type": "code",
   "execution_count": null,
   "id": "9239e7b7-bbc2-4030-ad2f-4aa10ec25ba0",
   "metadata": {},
   "outputs": [],
   "source": []
  },
  {
   "cell_type": "markdown",
   "id": "76f58001-ee9e-4626-96d6-be237c8b8945",
   "metadata": {},
   "source": [
    "## Choosing two time periods to compare\n",
    "\n",
    "4. Choose two separate time periods, each 30-50 years in length, and describe briefly why you chose these periods: then make some maps of the time average of your selected variable.\n",
    "- Map the average over each time period separately\n",
    "- Map the difference in the averages between the two time periods (note: make sure to label which time period you subtracted from which!)\n",
    "\n",
    "For both your sets of maps, display some relevant political/geographic boundaries overlaid on the region: we saw some examples of how to do this using the Cartopy “feature” toolbox in the mapping tutorials"
   ]
  },
  {
   "cell_type": "code",
   "execution_count": null,
   "id": "abb803e2-0b41-4b48-9e9c-535d7881e286",
   "metadata": {},
   "outputs": [],
   "source": []
  },
  {
   "cell_type": "markdown",
   "id": "777cabd8-1bf9-453d-9720-16731c1753c6",
   "metadata": {},
   "source": [
    "## Results \n",
    "\n",
    "5. Write 1-2 paragraphs in markdown text describing the results of your plot, and what you think they might mean for humans or ecosystems located in your study region. "
   ]
  },
  {
   "cell_type": "markdown",
   "id": "01e3d001-ee50-4798-afd3-2d175f7f3eb7",
   "metadata": {},
   "source": [
    "INSERT TEXT HERE "
   ]
  },
  {
   "cell_type": "code",
   "execution_count": null,
   "id": "9ac8e287-ee58-4a94-a707-be25c52d557f",
   "metadata": {},
   "outputs": [],
   "source": []
  }
 ],
 "metadata": {
  "kernelspec": {
   "display_name": "Anaconda 3 (EDS296)",
   "language": "python",
   "name": "eds196-stevenson"
  },
  "language_info": {
   "codemirror_mode": {
    "name": "ipython",
    "version": 3
   },
   "file_extension": ".py",
   "mimetype": "text/x-python",
   "name": "python",
   "nbconvert_exporter": "python",
   "pygments_lexer": "ipython3",
   "version": "3.8.18"
  }
 },
 "nbformat": 4,
 "nbformat_minor": 5
}
