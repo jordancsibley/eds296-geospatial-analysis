{
 "cells": [
  {
   "cell_type": "markdown",
   "id": "a68f86ec-5852-43e8-8f07-66444f489444",
   "metadata": {},
   "source": [
    "# Homework 2 - Geospatial Analysis \n",
    "\n",
    "### EDS 296 \n",
    "\n",
    "May 11, 2025 \n",
    "\n",
    "Jordan Sibley "
   ]
  },
  {
   "cell_type": "markdown",
   "id": "43a87616-e0ef-458c-9d7f-972d798d2a8b",
   "metadata": {},
   "source": [
    "## Accessing CMIP6 data \n",
    "\n",
    "1. Using the CMIP6 database hosted on Amazon Web Services, choose any two models you like: use both their historical simulations and future projections from one of the four major SSPs (ssp126, ssp245, ssp370, or ssp585). **Provide a brief description of the models and scenarios you chose to include.**\n",
    "\n",
    "2. Access information from your chosen models and scenario, for any climate variable you like; however, note that three-dimensional data is generally larger and can be slower to load, so I recommend either choosing a two-dimensional data field or reading in only the surface level if you choose 3D information. Some common choices of variables to analyze, and their CMIP names, include:\n",
    "- Surface air temperature (tas)\n",
    "- Precipitation (pr)\n",
    "- Sea surface temperature (tos)"
   ]
  },
  {
   "cell_type": "markdown",
   "id": "d8b06b46-c4e2-4fd4-b07b-4dcf810409dc",
   "metadata": {},
   "source": [
    "### Set up "
   ]
  },
  {
   "cell_type": "code",
   "execution_count": 1,
   "id": "37e26f3c-95b9-4de0-8d4b-3168808604b5",
   "metadata": {
    "tags": []
   },
   "outputs": [
    {
     "name": "stderr",
     "output_type": "stream",
     "text": [
      "ERROR 1: PROJ: proj_create_from_database: Open of /opt/anaconda3/envs/eds296-stevenson/share/proj failed\n"
     ]
    }
   ],
   "source": [
    "# Import libraries \n",
    "import xarray as xr\n",
    "import matplotlib.pyplot as plt\n",
    "import intake\n",
    "import numpy as np\n",
    "import pandas as pd\n",
    "import cartopy.crs as ccrs\n",
    "import cartopy.feature as cfeature"
   ]
  },
  {
   "cell_type": "code",
   "execution_count": 2,
   "id": "f5e1a974-f01d-46ad-975c-d0861c1ac205",
   "metadata": {
    "tags": []
   },
   "outputs": [],
   "source": [
    "# Open the CMIP6 data catalog, store as a variable\n",
    "catalog = intake.open_esm_datastore('https://cmip6-pds.s3.amazonaws.com/pangeo-cmip6.json')"
   ]
  },
  {
   "cell_type": "markdown",
   "id": "487d0975-1132-41fd-ad63-b777b10b9ae3",
   "metadata": {},
   "source": [
    "### Query the Database\n",
    "\n",
    "**CMIP6 Models**:\n",
    "- CanESM5 \n",
    "- MIROC6\n",
    "\n",
    "\n",
    "I chose the Canadian Earth System Model and the Model for Interdisciplinary Research on Climate as they both show good performance in simulating North American air temperature, and additionally they both have data for historical and projected time. \n",
    "\n",
    "\n",
    "**Emission Scenario**: SSP 370\n",
    "\n",
    "SSP3-7.0 is a medium to high-end climate scenario within the Shared Socioeconomic Pathways (SSPs) framework. I chose this projected emission scenario because it modeled after a future marked by regional competition and conflict, and a future where there are no additional climate policies are implemented ([Climatedata.ca](https://climatedata.ca/resource/understanding-shared-socio-economic-pathways-ssps/)). Based on the current US administration, this kind of future could be made possible, so I was interested in exploring a more extreme emission scenario such as this one. "
   ]
  },
  {
   "cell_type": "code",
   "execution_count": 3,
   "id": "c08fa1ac-1515-424c-bd1d-a16481ffd157",
   "metadata": {
    "tags": []
   },
   "outputs": [],
   "source": [
    "# Query catalog for my two models \n",
    "# Chose historical and projected activities: CMIP = historical data, ScenarioMIP = future projections\n",
    "activity_ids = ['ScenarioMIP', 'CMIP']\n",
    "\n",
    "# Select two models \n",
    "source_id = ['CanESM5', 'MIROC6']\n",
    "\n",
    "# Select historical and ssp370 experimental configurations  \n",
    "experiment_ids = ['historical', 'ssp370']\n",
    "\n",
    "# Choose ensemble member id (starting condtions, internal variation) \n",
    "member_id = 'r1i1p1f1'\n",
    "\n",
    "# Choose monthly time resolution\n",
    "table_id = 'Amon'\n",
    "\n",
    "# Select air temperature (tas) for the environmental varaible\n",
    "variable_id = 'tas'"
   ]
  },
  {
   "cell_type": "code",
   "execution_count": 4,
   "id": "9d0b1395-18d5-4f30-a6c4-a2ced8f28826",
   "metadata": {
    "tags": []
   },
   "outputs": [
    {
     "data": {
      "text/html": [
       "<div>\n",
       "<style scoped>\n",
       "    .dataframe tbody tr th:only-of-type {\n",
       "        vertical-align: middle;\n",
       "    }\n",
       "\n",
       "    .dataframe tbody tr th {\n",
       "        vertical-align: top;\n",
       "    }\n",
       "\n",
       "    .dataframe thead th {\n",
       "        text-align: right;\n",
       "    }\n",
       "</style>\n",
       "<table border=\"1\" class=\"dataframe\">\n",
       "  <thead>\n",
       "    <tr style=\"text-align: right;\">\n",
       "      <th></th>\n",
       "      <th>activity_id</th>\n",
       "      <th>institution_id</th>\n",
       "      <th>source_id</th>\n",
       "      <th>experiment_id</th>\n",
       "      <th>member_id</th>\n",
       "      <th>table_id</th>\n",
       "      <th>variable_id</th>\n",
       "      <th>grid_label</th>\n",
       "      <th>zstore</th>\n",
       "      <th>dcpp_init_year</th>\n",
       "      <th>version</th>\n",
       "    </tr>\n",
       "  </thead>\n",
       "  <tbody>\n",
       "    <tr>\n",
       "      <th>0</th>\n",
       "      <td>CMIP</td>\n",
       "      <td>MIROC</td>\n",
       "      <td>MIROC6</td>\n",
       "      <td>historical</td>\n",
       "      <td>r1i1p1f1</td>\n",
       "      <td>Amon</td>\n",
       "      <td>tas</td>\n",
       "      <td>gn</td>\n",
       "      <td>s3://cmip6-pds/CMIP6/CMIP/MIROC/MIROC6/histori...</td>\n",
       "      <td>NaN</td>\n",
       "      <td>20181212</td>\n",
       "    </tr>\n",
       "    <tr>\n",
       "      <th>1</th>\n",
       "      <td>ScenarioMIP</td>\n",
       "      <td>CCCma</td>\n",
       "      <td>CanESM5</td>\n",
       "      <td>ssp370</td>\n",
       "      <td>r1i1p1f1</td>\n",
       "      <td>Amon</td>\n",
       "      <td>tas</td>\n",
       "      <td>gn</td>\n",
       "      <td>s3://cmip6-pds/CMIP6/ScenarioMIP/CCCma/CanESM5...</td>\n",
       "      <td>NaN</td>\n",
       "      <td>20190429</td>\n",
       "    </tr>\n",
       "    <tr>\n",
       "      <th>2</th>\n",
       "      <td>CMIP</td>\n",
       "      <td>CCCma</td>\n",
       "      <td>CanESM5</td>\n",
       "      <td>historical</td>\n",
       "      <td>r1i1p1f1</td>\n",
       "      <td>Amon</td>\n",
       "      <td>tas</td>\n",
       "      <td>gn</td>\n",
       "      <td>s3://cmip6-pds/CMIP6/CMIP/CCCma/CanESM5/histor...</td>\n",
       "      <td>NaN</td>\n",
       "      <td>20190429</td>\n",
       "    </tr>\n",
       "    <tr>\n",
       "      <th>3</th>\n",
       "      <td>ScenarioMIP</td>\n",
       "      <td>MIROC</td>\n",
       "      <td>MIROC6</td>\n",
       "      <td>ssp370</td>\n",
       "      <td>r1i1p1f1</td>\n",
       "      <td>Amon</td>\n",
       "      <td>tas</td>\n",
       "      <td>gn</td>\n",
       "      <td>s3://cmip6-pds/CMIP6/ScenarioMIP/MIROC/MIROC6/...</td>\n",
       "      <td>NaN</td>\n",
       "      <td>20190627</td>\n",
       "    </tr>\n",
       "  </tbody>\n",
       "</table>\n",
       "</div>"
      ],
      "text/plain": [
       "   activity_id institution_id source_id experiment_id member_id table_id  \\\n",
       "0         CMIP          MIROC    MIROC6    historical  r1i1p1f1     Amon   \n",
       "1  ScenarioMIP          CCCma   CanESM5        ssp370  r1i1p1f1     Amon   \n",
       "2         CMIP          CCCma   CanESM5    historical  r1i1p1f1     Amon   \n",
       "3  ScenarioMIP          MIROC    MIROC6        ssp370  r1i1p1f1     Amon   \n",
       "\n",
       "  variable_id grid_label                                             zstore  \\\n",
       "0         tas         gn  s3://cmip6-pds/CMIP6/CMIP/MIROC/MIROC6/histori...   \n",
       "1         tas         gn  s3://cmip6-pds/CMIP6/ScenarioMIP/CCCma/CanESM5...   \n",
       "2         tas         gn  s3://cmip6-pds/CMIP6/CMIP/CCCma/CanESM5/histor...   \n",
       "3         tas         gn  s3://cmip6-pds/CMIP6/ScenarioMIP/MIROC/MIROC6/...   \n",
       "\n",
       "   dcpp_init_year   version  \n",
       "0             NaN  20181212  \n",
       "1             NaN  20190429  \n",
       "2             NaN  20190429  \n",
       "3             NaN  20190627  "
      ]
     },
     "metadata": {},
     "output_type": "display_data"
    }
   ],
   "source": [
    "# Search through catalog, store results in \"res\" variable\n",
    "res = catalog.search(activity_id=activity_ids, source_id=source_id, experiment_id=experiment_ids, \n",
    "                     member_id=member_id, table_id=table_id, variable_id=variable_id)\n",
    "\n",
    "# Display data frame associated with results\n",
    "display(res.df)"
   ]
  },
  {
   "cell_type": "code",
   "execution_count": 5,
   "id": "3e09f3c7-aea8-447b-a217-d659dc845e1d",
   "metadata": {
    "tags": []
   },
   "outputs": [],
   "source": [
    "# Read in data and store as xarray object (MIROC)\n",
    "hist_miroc = xr.open_zarr(res.df['zstore'][0], storage_options={'anon': True})\n",
    "ssp_miroc = xr.open_zarr(res.df['zstore'][3], storage_options={'anon': True})\n",
    "\n",
    "# Read in data and store as xarray object (CanESM5)\n",
    "hist_canESM = xr.open_zarr(res.df['zstore'][2], storage_options={'anon': True})\n",
    "ssp_canESM = xr.open_zarr(res.df['zstore'][1], storage_options={'anon': True})"
   ]
  },
  {
   "cell_type": "code",
   "execution_count": 7,
   "id": "72ee6561-3d3b-41f6-8d4c-ff99bcb46288",
   "metadata": {
    "tags": []
   },
   "outputs": [],
   "source": [
    "# Concatenate historical and future projection data\n",
    "# MIROC model\n",
    "miroc_tas = xr.concat([hist_miroc, ssp_miroc], dim=\"time\")\n",
    "\n",
    "# CanESM5 model \n",
    "canESM_tas = xr.concat([hist_canESM, ssp_canESM], dim=\"time\")\n",
    "\n",
    "\n",
    "# Convert time to datetime64 format\n",
    "time = miroc_tas.time.astype('datetime64[ns]')\n",
    "time = canESM_tas .time.astype('datetime64[ns]')"
   ]
  },
  {
   "cell_type": "markdown",
   "id": "841dc2bf-30dc-4499-9acc-25db841562da",
   "metadata": {},
   "source": [
    "## Choosing a study region "
   ]
  },
  {
   "cell_type": "markdown",
   "id": "52e6fd45-c9e7-4b7d-9d19-386aed98be6d",
   "metadata": {},
   "source": [
    "3. Choose a region that you’re interested in to analyze, anywhere in the world. This should be a region that’s fairly large - think, the size of a large country or a sizable fraction of a continent. As you did for HW1, describe in markdown text some aspects of the climate of your region: **what are the interesting features there, and how might you expect that climate change would impact the area?**\n",
    "\n",
    "The area of study I have choosen is a section of North America that includes Canada, United States, and Mexico. The climate of this large region varies with usual cooler temperatures on average in the North in Canda and warmer temperatures on averge in the South in Mexico. Due to rising temperatures due to climate change, all of this region is likely to expereince much higher average temperatures, potentially dangerous levels of air temperatures for areas in the US and Mexico, which is determinal to humans and animal life. "
   ]
  },
  {
   "cell_type": "code",
   "execution_count": null,
   "id": "9239e7b7-bbc2-4030-ad2f-4aa10ec25ba0",
   "metadata": {},
   "outputs": [],
   "source": [
    "# Define min/max bounds for region of North America (NOT CORRECT YET)\n",
    "lat_min, lat_max = 40, 41.5\n",
    "lon_min, lon_max = 285.5, 287\n",
    "\n",
    "\n",
    "# Define logical mask: True when lat/lon inside the valid ranges, False elsewhere\n",
    "miroc_NA_lat = (miroc_tas.lat >= lat_min) & (miroc_tas.lat <= lat_max)\n",
    "miroc_NA_lon = (miroc_tas.lon >= lon_min) & (miroc_tas.lon <= lon_max)\n",
    "\n",
    "# Find points where the mask value is True, drop all other points\n",
    "miroc_tas_NA = canesm5_data.where(miroc_NA_lat & miroc_NA_lon, drop=True)\n",
    "\n",
    "# Average over lat, lon dimensions to get a time series\n",
    "miroc_tas_NA = miroc_tas_NA.mean(dim=[\"lat\", \"lon\"])\n",
    "\n",
    "\n",
    "\n",
    "# Define logical mask: True when lat/lon inside the valid ranges, False elsewhere\n",
    "canESM_NA_lat = (canESM_tas.lat >= lat_min) & (canESM.lat <= lat_max)\n",
    "canESM_NA_lon = (canESM_tas.lon >= lon_min) & (canESM.lon <= lon_max)\n",
    "\n",
    "# Find points where the mask value is True, drop all other points\n",
    "canESM_tas_NA = canESM_tas.where(canESM_NA_lat & canESM_NA_lon, drop=True)\n",
    "\n",
    "# Average over lat, lon dimensions to get a time series\n",
    "canESM_tas_NA = canESM_tas_NA.mean(dim=[\"lat\", \"lon\"])"
   ]
  },
  {
   "cell_type": "markdown",
   "id": "76f58001-ee9e-4626-96d6-be237c8b8945",
   "metadata": {},
   "source": [
    "## Choosing two time periods to compare\n",
    "\n",
    "4. Choose two separate time periods, each 30-50 years in length, and describe briefly why you chose these periods: then make some maps of the time average of your selected variable.\n",
    "- Map the average over each time period separately\n",
    "- Map the difference in the averages between the two time periods (note: make sure to label which time period you subtracted from which!)\n",
    "\n",
    "For both your sets of maps, display some relevant political/geographic boundaries overlaid on the region: we saw some examples of how to do this using the Cartopy “feature” toolbox in the mapping tutorials"
   ]
  },
  {
   "cell_type": "code",
   "execution_count": null,
   "id": "abb803e2-0b41-4b48-9e9c-535d7881e286",
   "metadata": {},
   "outputs": [],
   "source": []
  },
  {
   "cell_type": "markdown",
   "id": "777cabd8-1bf9-453d-9720-16731c1753c6",
   "metadata": {},
   "source": [
    "## Results \n",
    "\n",
    "5. Write 1-2 paragraphs in markdown text describing the results of your plot, and what you think they might mean for humans or ecosystems located in your study region. "
   ]
  },
  {
   "cell_type": "markdown",
   "id": "01e3d001-ee50-4798-afd3-2d175f7f3eb7",
   "metadata": {},
   "source": [
    "INSERT TEXT HERE "
   ]
  },
  {
   "cell_type": "code",
   "execution_count": null,
   "id": "9ac8e287-ee58-4a94-a707-be25c52d557f",
   "metadata": {},
   "outputs": [],
   "source": []
  }
 ],
 "metadata": {
  "kernelspec": {
   "display_name": "Anaconda 3 (EDS296)",
   "language": "python",
   "name": "eds196-stevenson"
  },
  "language_info": {
   "codemirror_mode": {
    "name": "ipython",
    "version": 3
   },
   "file_extension": ".py",
   "mimetype": "text/x-python",
   "name": "python",
   "nbconvert_exporter": "python",
   "pygments_lexer": "ipython3",
   "version": "3.8.18"
  }
 },
 "nbformat": 4,
 "nbformat_minor": 5
}
